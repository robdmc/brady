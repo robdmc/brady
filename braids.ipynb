{
 "cells": [
  {
   "cell_type": "markdown",
   "id": "a1e8b982",
   "metadata": {},
   "source": [
    "# Import whatever packages you need here"
   ]
  },
  {
   "cell_type": "code",
   "execution_count": 1,
   "id": "78d305b3",
   "metadata": {},
   "outputs": [],
   "source": [
    "import requests\n",
    "\n"
   ]
  },
  {
   "cell_type": "markdown",
   "id": "69d7fff6",
   "metadata": {},
   "source": [
    "# This was the code you wrote"
   ]
  },
  {
   "cell_type": "code",
   "execution_count": 2,
   "id": "0d89e6b9",
   "metadata": {},
   "outputs": [],
   "source": [
    "# args for GET request\n",
    "url = 'my_url'\n",
    "user = 'my@email.com' + '/token'\n",
    "pwd = 'my_secret_passwrod'\n",
    "\n",
    "response = requests.get(url, auth=(user, pwd))\n",
    "\n",
    "if response.status_code != 200:\n",
    "    print('Status: ', response.status_code)\n",
    "\n",
    "# serials\n",
    "data = response.json()\n"
   ]
  },
  {
   "cell_type": "markdown",
   "id": "5baa0a5b",
   "metadata": {},
   "source": [
    "# Explore the data"
   ]
  },
  {
   "cell_type": "code",
   "execution_count": 13,
   "id": "da228dd5",
   "metadata": {},
   "outputs": [
    {
     "name": "stdout",
     "output_type": "stream",
     "text": [
      "See what type the data is\n",
      "<class 'dict'>\n",
      "\n",
      "Its a dict, so look at the keys\n",
      "dict_keys(['tickets', 'count', 'end_of_stream', 'next_page', 'end_time'])\n",
      "\n",
      "Check out what type the \"tickets\" value is since thats probably what we want\n",
      "<class 'list'>\n",
      "\n",
      "okay, its a list, indexed by integers, lets look at the tupe of the first item in the list\n",
      "<class 'dict'>\n",
      "\n",
      "okay, its a dict, lets look at its keys\n",
      "dict_keys(['url', 'id', 'external_id', 'via', 'created_at', 'updated_at', 'type', 'subject', 'raw_subject', 'description', 'priority', 'status', 'recipient', 'requester_id', 'submitter_id', 'assignee_id', 'organization_id', 'group_id', 'collaborator_ids', 'follower_ids', 'email_cc_ids', 'forum_topic_id', 'problem_id', 'has_incidents', 'is_public', 'due_at', 'tags', 'custom_fields', 'satisfaction_rating', 'sharing_agreement_ids', 'fields', 'followup_ids', 'ticket_form_id', 'brand_id', 'satisfaction_probability', 'allow_channelback', 'allow_attachments', 'generated_timestamp'])\n"
     ]
    }
   ],
   "source": [
    "# View the whole data blob\n",
    "# display(data)  # commented out because it takes too much screen space\n",
    "\n",
    "print('See what type the data is')\n",
    "print(type(data))\n",
    "\n",
    "print()\n",
    "print('Its a dict, so look at the keys')\n",
    "print(data.keys())\n",
    "\n",
    "print()\n",
    "print('Check out what type the \"tickets\" value is since thats probably what we want')\n",
    "print(type(data['tickets']))\n",
    "\n",
    "print()\n",
    "print('okay, its a list, indexed by integers, lets look at the tupe of the first item in the list')\n",
    "print(type(data['tickets'][0]))\n",
    "\n",
    "\n",
    "print()\n",
    "print('okay, its a dict, lets look at its keys')\n",
    "print(data['tickets'][0].keys())"
   ]
  },
  {
   "cell_type": "markdown",
   "id": "45891265",
   "metadata": {},
   "source": [
    "# Let's make a list of records we want to read"
   ]
  },
  {
   "cell_type": "code",
   "execution_count": 16,
   "id": "f8a8fadc",
   "metadata": {},
   "outputs": [],
   "source": [
    "tickets = data['tickets']"
   ]
  },
  {
   "cell_type": "markdown",
   "id": "dba9d521",
   "metadata": {},
   "source": [
    "# Let's write a function that knows how to pull info out of one ticket"
   ]
  },
  {
   "cell_type": "code",
   "execution_count": 21,
   "id": "96dd845e",
   "metadata": {},
   "outputs": [],
   "source": [
    "def extract(ticket):\n",
    "    \"\"\"\n",
    "    This function extracts record dictionary I care about from a single ticket dictionary\n",
    "    \"\"\"\n",
    "    # Create an empty record that will hold our output\n",
    "    record = {}\n",
    "    \n",
    "    # If the ticket contains a \"via\" field, get it otherwise get an empty dict\n",
    "    via = ticket.get('via', {})\n",
    "    \n",
    "    # Same rule for source, etc.\n",
    "    source = via.get('source', {})\n",
    "    source_from = source.get('from', {})\n",
    "    \n",
    "    # Here we do something different.  If I can't find address,\n",
    "    # say the address was \"None\"\n",
    "    address = source_from.get('address', None)\n",
    "    record['address'] = address\n",
    "    \n",
    "    # The above was for grabbing nested stuff.  Below is the simple top-level stuff\n",
    "    \n",
    "    # Define the top level fields you want to grab\n",
    "    fields = ['satisfaction_probability', 'assignee_id']    \n",
    "    \n",
    "    # Loop over those fields\n",
    "    for field in fields:\n",
    "        # Assign record from the corresponding ticket field\n",
    "        record[field] = ticket[field]\n",
    "    \n",
    "    return record"
   ]
  },
  {
   "cell_type": "markdown",
   "id": "e6c3bb64",
   "metadata": {},
   "source": [
    "# Apply this function to all members of our list of tickets"
   ]
  },
  {
   "cell_type": "code",
   "execution_count": 33,
   "id": "3abee533",
   "metadata": {},
   "outputs": [
    {
     "data": {
      "text/plain": [
       "[{'address': 'kevin.kapostasy@igs.com',\n",
       "  'satisfaction_probability': 0.33669,\n",
       "  'assignee_id': 380454819451},\n",
       " {'address': 'jdhankhar@cvent.com',\n",
       "  'satisfaction_probability': 0.3088,\n",
       "  'assignee_id': 380454819451},\n",
       " {'address': 'jdhankhar@cvent.com',\n",
       "  'satisfaction_probability': 0.09761,\n",
       "  'assignee_id': 389367924132},\n",
       " {'address': 'amarin@bitdefender.com',\n",
       "  'satisfaction_probability': 0.153797,\n",
       "  'assignee_id': 380454819451},\n",
       " {'address': 'mindy.wittman@ambition.com',\n",
       "  'satisfaction_probability': 0.346716,\n",
       "  'assignee_id': 389367924132}]"
      ]
     },
     "execution_count": 33,
     "metadata": {},
     "output_type": "execute_result"
    }
   ],
   "source": [
    "# Transform tickets to records with our function using a \"list comprehension\"\n",
    "records = [extract(ticket) for ticket in tickets]\n",
    "\n",
    "# Show the first three records\n",
    "rr = list(records[:5])\n",
    "rr"
   ]
  },
  {
   "cell_type": "markdown",
   "id": "0eae1e13",
   "metadata": {},
   "source": [
    "# This is how I would look stuff up"
   ]
  },
  {
   "cell_type": "code",
   "execution_count": 37,
   "id": "82607112",
   "metadata": {},
   "outputs": [
    {
     "name": "stdout",
     "output_type": "stream",
     "text": [
      "{'address': 'kevin.kapostasy@igs.com', 'satisfaction_probability': 0.33669, 'assignee_id': 380454819451, 'name': 'ryan'}\n",
      "{'address': 'jdhankhar@cvent.com', 'satisfaction_probability': 0.3088, 'assignee_id': 380454819451, 'name': 'ryan'}\n",
      "{'address': 'jdhankhar@cvent.com', 'satisfaction_probability': 0.09761, 'assignee_id': 389367924132, 'name': 'brady'}\n",
      "{'address': 'amarin@bitdefender.com', 'satisfaction_probability': 0.153797, 'assignee_id': 380454819451, 'name': 'ryan'}\n",
      "{'address': 'mindy.wittman@ambition.com', 'satisfaction_probability': 0.346716, 'assignee_id': 389367924132, 'name': 'brady'}\n"
     ]
    }
   ],
   "source": [
    "# Create a dictionary that maps, say ID numbers to something you care about\n",
    "lookup = {\n",
    "    380454819451: 'ryan',\n",
    "    389367924132: 'brady'\n",
    "}\n",
    "\n",
    "# Loop over all records\n",
    "rr = list(records[:5])\n",
    "for rec in rr:\n",
    "    # Make a new field with a name corresponding to what you care about\n",
    "    # Fill it with the lookup based on the data you have\n",
    "    rec['name'] = lookup[rec['assignee_id']]\n",
    "    print(rec)"
   ]
  },
  {
   "cell_type": "markdown",
   "id": "b908a8b8",
   "metadata": {},
   "source": [
    "# Now Pretend I didn't have a lookup for everyone"
   ]
  },
  {
   "cell_type": "code",
   "execution_count": 39,
   "id": "bfc9b19c",
   "metadata": {},
   "outputs": [
    {
     "name": "stdout",
     "output_type": "stream",
     "text": [
      "{'address': 'kevin.kapostasy@igs.com', 'satisfaction_probability': 0.33669, 'assignee_id': 380454819451, 'name': 'I dunno'}\n",
      "{'address': 'jdhankhar@cvent.com', 'satisfaction_probability': 0.3088, 'assignee_id': 380454819451, 'name': 'I dunno'}\n",
      "{'address': 'jdhankhar@cvent.com', 'satisfaction_probability': 0.09761, 'assignee_id': 389367924132, 'name': 'brady'}\n",
      "{'address': 'amarin@bitdefender.com', 'satisfaction_probability': 0.153797, 'assignee_id': 380454819451, 'name': 'I dunno'}\n",
      "{'address': 'mindy.wittman@ambition.com', 'satisfaction_probability': 0.346716, 'assignee_id': 389367924132, 'name': 'brady'}\n"
     ]
    }
   ],
   "source": [
    "# Create a dictionary that maps, say ID numbers to something you care about\n",
    "lookup = {\n",
    "    389367924132: 'brady'\n",
    "}\n",
    "\n",
    "# Loop over all records\n",
    "rr = list(records[:5])\n",
    "for rec in rr:\n",
    "    # Make a new field with a name corresponding to what you care about\n",
    "    # Fill it with the lookup based on the data you have\n",
    "    rec['name'] = lookup.get(rec['assignee_id'], 'I_dunno')\n",
    "    print(rec)"
   ]
  },
  {
   "cell_type": "code",
   "execution_count": null,
   "id": "c7ad5a4f",
   "metadata": {},
   "outputs": [],
   "source": []
  }
 ],
 "metadata": {
  "kernelspec": {
   "display_name": "Python 3",
   "language": "python",
   "name": "python3"
  },
  "language_info": {
   "codemirror_mode": {
    "name": "ipython",
    "version": 3
   },
   "file_extension": ".py",
   "mimetype": "text/x-python",
   "name": "python",
   "nbconvert_exporter": "python",
   "pygments_lexer": "ipython3",
   "version": "3.8.8"
  }
 },
 "nbformat": 4,
 "nbformat_minor": 5
}
